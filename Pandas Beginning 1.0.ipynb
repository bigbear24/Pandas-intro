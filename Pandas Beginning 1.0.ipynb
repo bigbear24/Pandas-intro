{
 "cells": [
  {
   "cell_type": "code",
   "execution_count": 2,
   "metadata": {},
   "outputs": [],
   "source": [
    "# This is the first  of pandas library tutorial that i am presenting .\n",
    "# Pandas is much more sophisticated library (dependency ) as compared to numpy\n",
    "# Data structures in Pandas are:(Series , Data Frame , Panel )\n"
   ]
  },
  {
   "cell_type": "code",
   "execution_count": 14,
   "metadata": {},
   "outputs": [
    {
     "name": "stdout",
     "output_type": "stream",
     "text": [
      "0   -1.191999\n",
      "1   -0.887544\n",
      "2    0.876181\n",
      "3   -0.022150\n",
      "4    0.194570\n",
      "dtype: float64\n"
     ]
    }
   ],
   "source": [
    "# Series refers to 1-dimensional arrays in Pandas \n",
    "import pandas as pd\n",
    "import numpy as np\n",
    "import random \n",
    "s1=pd.Series(np.random.randn(5))# 'randn' gives the normal distribution of (-5,5)\n",
    "print(s1)"
   ]
  },
  {
   "cell_type": "code",
   "execution_count": 29,
   "metadata": {},
   "outputs": [
    {
     "name": "stdout",
     "output_type": "stream",
     "text": [
      "   c1  c2  c3\n",
      "0   1   2   4\n",
      "1   2   3   5\n",
      "2   3   4   6\n",
      "3   4   5   7\n",
      "4   5   6   7\n",
      "5   6   7   8\n"
     ]
    }
   ],
   "source": [
    "#Apart from series  we have data frames(dictionary , 2d array etc.\n",
    "d = {'c1':[1,2,3,4,5,6],\n",
    "    'c2':[2,3,4,5,6,7],'c3':[4,5,6,7,7,8]}\n",
    "df = pd.DataFrame(d)\n",
    "print(df)"
   ]
  },
  {
   "cell_type": "code",
   "execution_count": 33,
   "metadata": {},
   "outputs": [
    {
     "name": "stdout",
     "output_type": "stream",
     "text": [
      "[[[1 2 3 4]\n",
      "  [5 6 7 8]]\n",
      "\n",
      " [[9 2 3 4]\n",
      "  [5 4 3 2]]]\n"
     ]
    }
   ],
   "source": [
    "# Then we have panel that handles 3d data \n",
    "d=np.array([[[1,2,3,4],[5,6,7,8]],[[9,2,3,4],[5,4,3,2]]])\n",
    "print(d)# this is 3d array we have ie having (2 axis x 2 rows x 4 columns) "
   ]
  },
  {
   "cell_type": "code",
   "execution_count": 37,
   "metadata": {},
   "outputs": [],
   "source": [
    "# Panels have been depreciated from Pandas library so  i am still not clear about this one ."
   ]
  }
 ],
 "metadata": {
  "kernelspec": {
   "display_name": "Python 3",
   "language": "python",
   "name": "python3"
  },
  "language_info": {
   "codemirror_mode": {
    "name": "ipython",
    "version": 3
   },
   "file_extension": ".py",
   "mimetype": "text/x-python",
   "name": "python",
   "nbconvert_exporter": "python",
   "pygments_lexer": "ipython3",
   "version": "3.8.1"
  }
 },
 "nbformat": 4,
 "nbformat_minor": 4
}
